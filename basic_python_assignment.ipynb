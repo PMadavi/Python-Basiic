{
  "nbformat": 4,
  "nbformat_minor": 0,
  "metadata": {
    "colab": {
      "provenance": []
    },
    "kernelspec": {
      "name": "python3",
      "display_name": "Python 3"
    },
    "language_info": {
      "name": "python"
    }
  },
  "cells": [
    {
      "cell_type": "markdown",
      "source": [
        "1. what is python and why it is popular?\n",
        "  - python iis a high-level, interpreted programming langaunge.\n",
        "  -IT'S EASY TO LEARN ND USE.\n",
        "  -IT'S HAVE HUGE COMMUNITY.\n",
        "  -HAVE GOOD VERSALITY APPLICATIN.\n",
        "  -CROSS-PLATFORM COMPATIBILITY."
      ],
      "metadata": {
        "id": "GwnaFgYTz0dW"
      }
    },
    {
      "cell_type": "markdown",
      "source": [
        "2. WHAT IS AN INTERPRETER IN PYTHON?\n",
        "  - AN INTERPRETER IN PYTHON IS A PROGRAM THAT READS AND EXECUTE PYTHON CODE LINE BY LINE."
      ],
      "metadata": {
        "id": "NO4w8uJb18dV"
      }
    },
    {
      "cell_type": "markdown",
      "source": [
        "3.WHAT ARE PREDEFINE KEYWORDS IN PYTHON?\n",
        "  - PREDEFINED KEYWORDS ARE SPECIAL WORDS THAT HAVE FIXED MEANING IN PYTHON. WE CANNOT USE THEM AS A VARIABLE NAMES, FUNCTION NAME OR IDENTIFIERS BECAUSE PYTHON USES THEM OR ITS SYNTAX AND STRUCTURE.\n",
        "  PRE. KEYWORDS - IF, ELSE,ELIF, FOR, WHILE, BREAK, CONTINUE, ETC.,\n",
        "  "
      ],
      "metadata": {
        "id": "zkUvyUvk29zL"
      }
    },
    {
      "cell_type": "markdown",
      "source": [
        "4.CAN KEYWORDS BE USED AS VARIABLE NAME?\n",
        "  - NO, YOU CANNOT USE AS VARIABLE IT'S SHOWN SYNTAX ERROR."
      ],
      "metadata": {
        "id": "EuMR-vCr4nNm"
      }
    },
    {
      "cell_type": "markdown",
      "source": [
        "5.WHAT IS MUTABILITY IN PYTHON?\n",
        "  - MUTABILITY IN PYTHON REFERS TO WHETHER OR NOT AN OBJECT CAN BE CHANGED AFTER IT IS CREATED.\n",
        "  - MUTABLE OBJECT IS - LIST, DICTIONARY, SET\n",
        "  - IMMUTABLE OBJECT - INT, FLOAT, STR, TUPLE"
      ],
      "metadata": {
        "id": "C-YN9GlY5NEv"
      }
    },
    {
      "cell_type": "markdown",
      "source": [
        "6. WHY ARE LISTS MUTABLE, BUT TUPLES ARE IMMUTABLE?\n",
        "  - LIST ARE MUTABLE BECAUSE DYNAMIC DATA THAT CHANGES OVER TIME. INTERNALLY, LIST STORE A REFERENCE TO A BLOCK OF MEMORY THAT CAN BE RESIZED. THAT'S WHY WE CAN CHANGE,ADD OR REMOVE ITEM.\n",
        "  - TUPPELS ARE IMMUTABLE BECAUSE FIXED COLLECTION OF ITEM, MORE MEMORY IFFICIENT AND SLIGHTLY FASTER THAN LISTS.INTERNALLY, TUPLES ARE STORED IN A FIXED BLOCK OF MEMORY AND DO NOT ALLOW MODIFICATION."
      ],
      "metadata": {
        "id": "WdR0dv40eakm"
      }
    },
    {
      "cell_type": "markdown",
      "source": [
        "7. WHAT IS THE DIFFERNCE BETWEEN '==' AND \"IS\" OPERATOER IN PYTHON?\n",
        "  - \"==\" EQUALITY OPERATOR CHECKS IF VALUES ARE EQUAL.\n",
        "  - \"IS\" IDENTITY OPERATOR CHECKS IF BOTH VARIABLE POINT TO THE SAME OBJECT IN MEMORY"
      ],
      "metadata": {
        "id": "GmibUVZsh0rY"
      }
    },
    {
      "cell_type": "markdown",
      "source": [
        "8. WHAT ARE LOGICAL OPEATION IN PYTHON?\n",
        "  - LOGICAL OPERATORS ARE USED TO COMBINE CONDITIONALS STATEMENT AND RETURN 'TRUE' OR 'FALSE' BASED ON THE LOGIC APPLIED.\n",
        "   - \"AND\" ALL CONDITION MUST BE TRUE\n",
        "    RETURN 'TRUE' ONLY IF BOTH SIDE ARE TRUE.\n",
        "   - \"OR\" ATLEAST ONE CONDITION IS TRUE\n",
        "    RETURN 'TRUE' IF ANYONE SIDE IS TRUE.\n"
      ],
      "metadata": {
        "id": "v8elYpB9oQyd"
      }
    },
    {
      "cell_type": "markdown",
      "source": [
        "9. WHAT IS TYPE CASTING IN PYTHON?\n",
        "  - TYPE CASTING IN PYTHON REFERS TO CONVERTING ONE DATA TYPE INTO ANOTHER.\n",
        "  - TYPE OF TYPE CASTING - IMPLICIT TYPE CASTING AND EXPLICIT TYPE CASTING."
      ],
      "metadata": {
        "id": "BQB7v2Xhvvdi"
      }
    },
    {
      "cell_type": "markdown",
      "source": [
        "10. WHAT IS THE DIFFERENCE BETWEEN IMPLICIT AND EXPLICIT TYPE CASTING?\n",
        "  - IMPLICIT TYPE CASTING DONE BY PYTHON INTERPRETER AUTOMATICALY, HAPPENS WITHOUT PROGRAMMER'S INTERVENTION.\n",
        "  - EXPLICIT TYPE CASTING DONE BY THE PROGRAMMER. YOU EXPLICITLY TELL PYTHON TO CONVERT A VARIABLE FROM ONE TYPE TO ANOTHER."
      ],
      "metadata": {
        "id": "PNLQaU19xj-H"
      }
    },
    {
      "cell_type": "markdown",
      "source": [
        "11. WHAT IS THE PURPOSE OF CONDITIONAL STATEMENT IN PYTHON?\n",
        "  - CONDITIONALS IN PYTHON ARE USED TO EXECUTE CODE BASED ON THE EVALUATION OF ONE OR MORE CONDITIONS.\n",
        "  - IT'S SUPPORTS CONDITIONALS STATEMENT SAUCH AS IF, ELIF(ELSE IF), AND ELSE TO CONTROL THE FLOW OF EXECUTION."
      ],
      "metadata": {
        "id": "HYlIhkB7iki9"
      }
    },
    {
      "cell_type": "markdown",
      "source": [
        "12. HOW DOES THE ELIF STATEMENT WORK?\n",
        "  - IN PYTHON THE \"ELIF\" STATEMENT IS USED AS PART OF CONDITIONAL STATEMENT TO CHECK MULTIPLE EXPRESSION. IT'S STAND FOR \"ELSE IF\" AND ALLOWS YOU TO CHAIN MULTIPLE CONDITION TOGETHER. THIS IS USEFUL WHEN YOU WANT TO EXECUTE DIFFERENT BLOCKS OF CODE BASED ON DIFFERENCE CONDITIONS."
      ],
      "metadata": {
        "id": "y8Y6AXepkOd5"
      }
    },
    {
      "cell_type": "markdown",
      "source": [
        "13. WHAT IS THE DIFFERENCE BETWEEN FOR AND WHILE LOOPS?\n",
        "  - BOTH \"FOR\" AND \"WHILE\" LOOPS ARE USED TO ITERATE A BLOCK OF CODE, BUT THEY ARE USED IN DIFFERENT SITUATION DEPENDING ON THE CONDITION OR THE TYPE OF ITERATION REQUIRED.\n",
        "  - \"FOR\" LOOPS USED WHEN YOU KNOW HOW MANY TIMES TO RUN THE LOOPS. IT'S USED TO ITERATE OVER A SEQUENCE LIKE A LIST,TUPLE, STRING, OR RANGE OR ANY ITERABLE OBJECTS.\n",
        "  - \"WHILE\" LOOP CONTINUE TO EXECUTE AS LONG AS A SPECIFIED CONDITION IS TRUE.\n",
        "  IT'S TYPICALLY USED WHEN THE NUMBER OF ITERATION IS NOT KNOWN IN ADVANCE AND DEPENDS ON A CONDITION."
      ],
      "metadata": {
        "id": "9fqq5EmUmh9Q"
      }
    },
    {
      "cell_type": "markdown",
      "source": [
        "14. DESCIBE A SCENARIO WHERE A WHILE LOOP IS MORE SUITABLE THAN A FOR LOOP?\n",
        "  - A SCENARIO WHERE A \"WHILE\" LOOP IS MORE SUITABLE THAN A \"FOR\" LOOP IS WHEN YOU NEED TO REPEATEDLY PROMPT A USER FOR INPUT UNTIL THEY PROVIDE A VALID RESPONSE. IN THIS CASE, THE NUMBER OF ITERATION IS NOT KNOWN IN ADVANCE, AS IT DEPENDS ON THE USER'S INPUT.\n",
        "  - EX. IN CODE"
      ],
      "metadata": {
        "id": "icvO3izwqfVk"
      }
    },
    {
      "cell_type": "code",
      "source": [
        "correct_pin = \"1234\"\n",
        "entered_pin = \"\"\n",
        "while entered_pin != correct_pin:\n",
        "    entered_pin = input(\"Enter Your Pin: \")\n",
        "print(\"Access Granted\")"
      ],
      "metadata": {
        "colab": {
          "base_uri": "https://localhost:8080/"
        },
        "id": "orrYv92PzknC",
        "outputId": "7218c803-0faa-40f2-acdb-14085e7d060a"
      },
      "execution_count": null,
      "outputs": [
        {
          "output_type": "stream",
          "name": "stdout",
          "text": [
            "Enter Your Pin: 12335\n",
            "Enter Your Pin: 1234\n",
            "Access Granted\n"
          ]
        }
      ]
    },
    {
      "cell_type": "code",
      "source": [],
      "metadata": {
        "id": "jPdWFdbq0hit"
      },
      "execution_count": null,
      "outputs": []
    },
    {
      "cell_type": "code",
      "source": [
        "# 1. WRITE A PYTHON PROGRAM TO PRINT \"HELLO WORLD!\"\n",
        "print(\"HELLO WORLD!\")"
      ],
      "metadata": {
        "colab": {
          "base_uri": "https://localhost:8080/"
        },
        "id": "Oo6MhIbB1obP",
        "outputId": "93f52a7d-842c-469f-e977-519e0334c4ac"
      },
      "execution_count": null,
      "outputs": [
        {
          "output_type": "stream",
          "name": "stdout",
          "text": [
            "HELLO WORLD!\n"
          ]
        }
      ]
    },
    {
      "cell_type": "code",
      "source": [
        "# 2. WRITE A PYTHON PROGRAM THAT DISPLAYS YOUR NAME AND AGE.\n",
        "NAME = \"PAWAN MADAVI\"\n",
        "AGE = 29\n",
        "print(\"MY NAME IS\", NAME)\n",
        "print(\"MY AGE IS\", AGE)"
      ],
      "metadata": {
        "colab": {
          "base_uri": "https://localhost:8080/"
        },
        "id": "4HnIa7PB18cc",
        "outputId": "5306e5c9-b4f0-456d-8098-d418d25a1edd"
      },
      "execution_count": null,
      "outputs": [
        {
          "output_type": "stream",
          "name": "stdout",
          "text": [
            "MY NAME IS PAWAN MADAVI\n",
            "MY AGE IS 29\n"
          ]
        }
      ]
    },
    {
      "cell_type": "code",
      "source": [
        "# 3. write code to print all the pre-defined keywords in python using the keywords library.\n",
        "import keyword\n",
        "\n",
        "keywords = keyword.kwlist\n",
        "\n",
        "print(keywords)"
      ],
      "metadata": {
        "colab": {
          "base_uri": "https://localhost:8080/",
          "height": 0
        },
        "id": "hxnWa-0j2hUu",
        "outputId": "b3eff279-a7d9-46c7-b147-ecddbe7e57cb"
      },
      "execution_count": 14,
      "outputs": [
        {
          "output_type": "stream",
          "name": "stdout",
          "text": [
            "['False', 'None', 'True', 'and', 'as', 'assert', 'async', 'await', 'break', 'class', 'continue', 'def', 'del', 'elif', 'else', 'except', 'finally', 'for', 'from', 'global', 'if', 'import', 'in', 'is', 'lambda', 'nonlocal', 'not', 'or', 'pass', 'raise', 'return', 'try', 'while', 'with', 'yield']\n"
          ]
        }
      ]
    },
    {
      "cell_type": "code",
      "source": [
        "# 4. write a program that checks if a given word is a python keyword.\n",
        "import keyword\n",
        "\n",
        "keywords = input(\"enter the keyword \")\n",
        "\n",
        "\n",
        "if keyword.iskeyword(keywords):\n",
        "    print(\"keyword is correct\")\n",
        "else:\n",
        "    print(\"keyword is wrong\")\n"
      ],
      "metadata": {
        "id": "cg601C5pA5HL",
        "colab": {
          "base_uri": "https://localhost:8080/",
          "height": 0
        },
        "outputId": "b0fe1442-106f-41d8-d330-3e5df2870aab"
      },
      "execution_count": 27,
      "outputs": [
        {
          "output_type": "stream",
          "name": "stdout",
          "text": [
            "enter the keyword True\n",
            "keyword is correct\n"
          ]
        }
      ]
    },
    {
      "cell_type": "code",
      "source": [
        "# 5. create a list and tuple in python, and demontrate how attempting to change an element work diffrently for each.\n",
        "\n",
        "my_list = [10, 20, 30]\n",
        "my_tuple = (10, 20, 30)\n",
        "\n",
        "# Modify an element in the list.\n",
        "print(\"Original list:\", my_list)\n",
        "my_list[1] = 99\n",
        "print(\"Modified list:\", my_list)\n",
        "\n",
        "# modify an element in the tuple.\n",
        "print(\"Original tuple:\", my_tuple)\n",
        "if my_tuple[1] == 99:\n",
        "    print(\"it is change\")\n",
        "else:\n",
        "    print(\"it is not change\")\n"
      ],
      "metadata": {
        "colab": {
          "base_uri": "https://localhost:8080/",
          "height": 0
        },
        "id": "9B-WNLPQ5LpR",
        "outputId": "41203ca8-6e9b-4aab-bc0e-08491b447210"
      },
      "execution_count": 70,
      "outputs": [
        {
          "output_type": "stream",
          "name": "stdout",
          "text": [
            "Original list: [10, 20, 30]\n",
            "Modified list: [10, 99, 30]\n",
            "Original tuple: (10, 20, 30)\n",
            "it is not change\n"
          ]
        }
      ]
    },
    {
      "cell_type": "code",
      "source": [
        "# 7. write aa program that performs basic arithmetic operation on two user input numbers.\n",
        "\n",
        "num_1 = int(input(\"enter the no. 1 - \"))\n",
        "num_2 = int(input(\"enter the no. 2 - \"))\n",
        "print(f\"The total sum is {num_1 + num_2}\")\n",
        "print(f\"The total sub is {num_1 - num_2}\")\n",
        "print(f\"The total mul is {num_1 * num_2}\")\n",
        "print(f\"The total div is {num_1 + num_2}\")"
      ],
      "metadata": {
        "colab": {
          "base_uri": "https://localhost:8080/",
          "height": 0
        },
        "id": "BGaEcdDg5mZa",
        "outputId": "521d41f4-223d-4908-d8fe-d0e9c893330a"
      },
      "execution_count": 37,
      "outputs": [
        {
          "output_type": "stream",
          "name": "stdout",
          "text": [
            "enter the no. 1 - 20\n",
            "enter the no. 2 - 2\n",
            "The total sum is 22\n",
            "The total sub is 18\n",
            "The total mul is 40\n",
            "The total div is 10.0\n"
          ]
        }
      ]
    },
    {
      "cell_type": "code",
      "source": [
        "# 8. write a program to demostrate the use oof logical operator.\n",
        "\n",
        "x = True\n",
        "y = Fslse\n",
        "\n",
        "#for And operator -\n",
        "if x and y == True:\n",
        "      print(\"both are same\")\n",
        "else:\n",
        "      print(\"both are diff.\")\n",
        "# for or operator -\n",
        "if x or y == True:\n",
        "      print(\"both are same\")\n",
        "else:\n",
        "      print(\"both are diff.\")\n",
        "# for not operator -\n",
        "if x is not y == True:\n",
        "      print(\"both are same\")\n",
        "else:\n",
        "      print(\"both are diff.\")"
      ],
      "metadata": {
        "colab": {
          "base_uri": "https://localhost:8080/",
          "height": 0
        },
        "id": "Pp7fmivi8HA3",
        "outputId": "4d23f52f-a051-40da-d76a-133975a4c1ed"
      },
      "execution_count": 52,
      "outputs": [
        {
          "output_type": "stream",
          "name": "stdout",
          "text": [
            "both are same\n",
            "both are same\n",
            "both are diff.\n"
          ]
        }
      ]
    },
    {
      "cell_type": "code",
      "source": [
        "# 9. write a python program to convert user input from sting to integer, float and boolean type.\n",
        "\n",
        "user_input = input(\"Enter a value: \")\n",
        "integer_value = int(user_input)\n",
        "print(integer_value)\n",
        "float_value = float(user_input)\n",
        "print(float_value)\n",
        "boolean_value = bool(user_input)\n",
        "print(boolean_value)\n"
      ],
      "metadata": {
        "colab": {
          "base_uri": "https://localhost:8080/",
          "height": 0
        },
        "id": "0yp6h-vl_kge",
        "outputId": "de2fafad-8a42-40cd-ba97-190ae9f7398c"
      },
      "execution_count": 55,
      "outputs": [
        {
          "output_type": "stream",
          "name": "stdout",
          "text": [
            "Enter a value: 10\n",
            "10\n",
            "10.0\n",
            "True\n"
          ]
        }
      ]
    },
    {
      "cell_type": "code",
      "source": [
        "# 10. write code to demonstrate type casting with list elements.\n",
        "\n",
        "string_list = ['1', '2', '3', '4.5', '6.7']\n",
        "\n",
        "# Convert string element to integer\n",
        "int_list = []\n",
        "for item in string_list:\n",
        "    if '.' not in item:\n",
        "        int_list.append(int(item))\n",
        "\n",
        "float_list = [float(item) for item in string_list]\n",
        "\n",
        "print(\"Original list (strings):\", string_list)\n",
        "print(\"Converted to floats     :\", float_list)\n"
      ],
      "metadata": {
        "colab": {
          "base_uri": "https://localhost:8080/",
          "height": 0
        },
        "id": "ENI89vKBE8t1",
        "outputId": "bdd3af7f-d2d4-4067-b7fb-d3616264f148"
      },
      "execution_count": 60,
      "outputs": [
        {
          "output_type": "stream",
          "name": "stdout",
          "text": [
            "Original list (strings): ['1', '2', '3', '4.5', '6.7']\n",
            "Converted to floats     : [1.0, 2.0, 3.0, 4.5, 6.7]\n"
          ]
        }
      ]
    },
    {
      "cell_type": "code",
      "source": [
        "# 11. write a program that checks if a number is positive, nagative or zero.\n",
        "\n",
        "num = float(input(\"Enter a number: \"))\n",
        "\n",
        "# Check the condition\n",
        "if num > 0:\n",
        "    print(\"The number is positive.\")\n",
        "elif num < 0:\n",
        "    print(\"The number is negative.\")\n",
        "else:\n",
        "    print(\"The number is zero.\")\n"
      ],
      "metadata": {
        "colab": {
          "base_uri": "https://localhost:8080/",
          "height": 0
        },
        "id": "eXshyJZsi8S7",
        "outputId": "a075f442-b32c-4000-86b9-26ba40507d64"
      },
      "execution_count": 61,
      "outputs": [
        {
          "output_type": "stream",
          "name": "stdout",
          "text": [
            "Enter a number: 5\n",
            "The number is positive.\n"
          ]
        }
      ]
    },
    {
      "cell_type": "code",
      "source": [
        "# 12. write a for loop to print numbers from 1 to 10.\n",
        "\n",
        "for i in range(1, 11):\n",
        "    print(i)\n"
      ],
      "metadata": {
        "colab": {
          "base_uri": "https://localhost:8080/",
          "height": 0
        },
        "id": "KrC4Gl1Yjaxs",
        "outputId": "32fbf39f-965c-44c0-b30f-63d0553dd9cb"
      },
      "execution_count": 62,
      "outputs": [
        {
          "output_type": "stream",
          "name": "stdout",
          "text": [
            "1\n",
            "2\n",
            "3\n",
            "4\n",
            "5\n",
            "6\n",
            "7\n",
            "8\n",
            "9\n",
            "10\n"
          ]
        }
      ]
    },
    {
      "cell_type": "code",
      "source": [
        "# 13. write a python program to find the sum of all even numbers between 1 and 50.\n",
        "\n",
        "even_sum = 0\n",
        "\n",
        "# Loop numbers from 1 to 50\n",
        "for num in range(1, 51):\n",
        "    if num % 2 == 0:\n",
        "        even_sum += num\n",
        "\n",
        "print(\"Sum of even numbers from 1 to 50 is:\", even_sum)\n"
      ],
      "metadata": {
        "colab": {
          "base_uri": "https://localhost:8080/",
          "height": 0
        },
        "id": "wCY7ELIGjy3F",
        "outputId": "348c399e-e8c2-425a-e8fe-253f04ec6613"
      },
      "execution_count": 63,
      "outputs": [
        {
          "output_type": "stream",
          "name": "stdout",
          "text": [
            "Sum of even numbers from 1 to 50 is: 650\n"
          ]
        }
      ]
    },
    {
      "cell_type": "code",
      "source": [
        "# 14. write a program to reverse a string using a while loop.\n",
        "\n",
        "text = input(\"Enter a string: \")\n",
        "\n",
        "reversed_text = \"\"\n",
        "index = len(text) - 1\n",
        "\n",
        "while index >= 0:\n",
        "    reversed_text += text[index]\n",
        "    index -= 1\n",
        "\n",
        "print(\"Reversed string:\", reversed_text)\n"
      ],
      "metadata": {
        "colab": {
          "base_uri": "https://localhost:8080/",
          "height": 0
        },
        "id": "Mr61jKjHkbmc",
        "outputId": "08cf622c-859e-45de-fad1-72eeb0fe90cc"
      },
      "execution_count": 64,
      "outputs": [
        {
          "output_type": "stream",
          "name": "stdout",
          "text": [
            "Enter a string: 1,2,3,4,5\n",
            "Reversed string: 5,4,3,2,1\n"
          ]
        }
      ]
    },
    {
      "cell_type": "code",
      "source": [
        "# 15. write a python program to calculate a factorial of a number provided by the user using a while loop."
      ],
      "metadata": {
        "id": "gV--2hEFlXcj"
      },
      "execution_count": null,
      "outputs": []
    }
  ]
}